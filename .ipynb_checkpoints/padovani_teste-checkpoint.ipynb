{
 "cells": [
  {
   "cell_type": "code",
   "execution_count": 1,
   "metadata": {
    "executionInfo": {
     "elapsed": 823,
     "status": "ok",
     "timestamp": 1614802218413,
     "user": {
      "displayName": "Jose Henrique Padovani",
      "photoUrl": "",
      "userId": "11914115485359258594"
     },
     "user_tz": 180
    },
    "id": "_sEmjsdHtkkl"
   },
   "outputs": [],
   "source": [
    "sr=44100"
   ]
  },
  {
   "cell_type": "code",
   "execution_count": 2,
   "metadata": {},
   "outputs": [],
   "source": [
    "# feature extractoring and preprocessing data\n",
    "import librosa\n",
    "import pandas as pd\n",
    "import numpy as np\n",
    "import matplotlib.pyplot as plt\n",
    "import seaborn as sns\n",
    "from pylab import *\n",
    "# %matplotlib inline\n",
    "import os\n",
    "from PIL import Image\n",
    "import pathlib\n",
    "import csv\n",
    "from matplotlib import cm\n",
    "from matplotlib.colors import ListedColormap, LinearSegmentedColormap\n"
   ]
  },
  {
   "cell_type": "code",
   "execution_count": 3,
   "metadata": {
    "colab": {
     "base_uri": "https://localhost:8080/",
     "height": 375
    },
    "executionInfo": {
     "elapsed": 878,
     "status": "error",
     "timestamp": 1614802240707,
     "user": {
      "displayName": "Jose Henrique Padovani",
      "photoUrl": "",
      "userId": "11914115485359258594"
     },
     "user_tz": 180
    },
    "id": "95JRPDL2tkks",
    "outputId": "c71154af-09b2-4a9b-bfd4-0053694b6d53"
   },
   "outputs": [],
   "source": [
    "def sliced_mean(x, qt = 4):\n",
    "    x = x[0]\n",
    "    pts = np.linspace(0, len(x), num = qt, dtype = int)\n",
    "    mean = np.zeros(qt-1)\n",
    "    for i in range(len(pts) -1 ):\n",
    "        #print(i, pts[i], i+1, pts[i+1])\n",
    "        #print(np.mean( x[ pts[i]:pts[i+1] ] ))\n",
    "        mean[i] = np.mean( x[ pts[i]:pts[i+1] ] )\n",
    "    return mean  "
   ]
  },
  {
   "cell_type": "code",
   "execution_count": 4,
   "metadata": {
    "id": "qJpfq8JztsDp"
   },
   "outputs": [],
   "source": [
    "from sklearn.model_selection import train_test_split\n",
    "from sklearn.preprocessing import LabelEncoder, StandardScaler\n",
    "from sklearn.decomposition import PCA\n",
    "\n",
    "import warnings\n",
    "warnings.filterwarnings('ignore')"
   ]
  },
  {
   "cell_type": "code",
   "execution_count": null,
   "metadata": {},
   "outputs": [],
   "source": [
    "plt.figure(figsize=(10,10))\n",
    "genres = 'bell_generation clink clink_timestretched fugu morph_to_drum motif time_contract_by_mix'.split()\n",
    "\n",
    "for g in genres:\n",
    "    pathlib.Path(f'img_data3/{g}').mkdir(parents=True, exist_ok=True)     \n",
    "    for filename in os.listdir(f'./segmentadas3/{g}'):\n",
    "        songname = f'./segmentadas3/{g}/{filename}'\n",
    "        y, sr = librosa.load(songname, sr=sr, mono=True, duration=5)\n",
    "        plt.specgram(y, NFFT=512, Fs=sr, Fc=0, noverlap=128, cmap=cmap, sides='default', mode='default', scale='dB');\n",
    "        #plt.axis('off');\n",
    "        plt.title(f'{filename[:-3].replace(\".\", \"\")}', fontsize = 15)\n",
    "        plt.savefig(f'img_data3/{g}/{filename[:-3].replace(\".\", \"\")}.png')\n",
    "        plt.clf()"
   ]
  }
 ],
 "metadata": {
  "colab": {
   "name": "padovani_teste.ipynb",
   "provenance": []
  },
  "kernelspec": {
   "display_name": "Python 3",
   "language": "python",
   "name": "python3"
  },
  "language_info": {
   "codemirror_mode": {
    "name": "ipython",
    "version": 3
   },
   "file_extension": ".py",
   "mimetype": "text/x-python",
   "name": "python",
   "nbconvert_exporter": "python",
   "pygments_lexer": "ipython3",
   "version": "3.8.5"
  }
 },
 "nbformat": 4,
 "nbformat_minor": 1
}
